{
  "nbformat": 4,
  "nbformat_minor": 0,
  "metadata": {
    "colab": {
      "provenance": [],
      "toc_visible": true
    },
    "kernelspec": {
      "name": "python3",
      "display_name": "Python 3"
    },
    "language_info": {
      "name": "python"
    }
  },
  "cells": [
    {
      "cell_type": "markdown",
      "source": [
        "# **Logistic Regression Model**\n",
        "\n",
        "This is a implementation of Logistic Regression model which is a machine learning algorithm based on supervised learning to predict whether a applicant's gets admitted into a university.\n",
        "\n",
        "## Problem Statement\n",
        "\n",
        "Suppose that I am the administrator of a university department and I want to determine each applicant’s chance of admission based on their results on two exams. \n",
        "* I have historical data from previous applicant's that I can use as a training set for logistic regression. \n",
        "* For each training example, I have the applicant’s scores on two exams and the admissions decision. \n",
        "* Goal is to build a classification model that estimates an applicant’s probability of admission based on the scores from those two exams. \n",
        "\n",
        ">The source of the dataset comes from [Supervised Machine Learning by Andrew Ng, Coursera](https://www.coursera.org/learn/machine-learning)\n"
      ],
      "metadata": {
        "id": "d4Vt9wAwGiIT"
      }
    },
    {
      "cell_type": "markdown",
      "source": [
        "##Prepare Tools and Materials"
      ],
      "metadata": {
        "id": "d0spLsneVkI_"
      }
    },
    {
      "cell_type": "code",
      "execution_count": 1,
      "metadata": {
        "colab": {
          "base_uri": "https://localhost:8080/",
          "height": 206
        },
        "id": "nafYh_PldLOq",
        "outputId": "1a532367-48ff-464a-d1df-5d48f7420536"
      },
      "outputs": [
        {
          "output_type": "execute_result",
          "data": {
            "text/plain": [
              "      exam 1     exam 2  pass\n",
              "0  34.623660  78.024693     0\n",
              "1  30.286711  43.894998     0\n",
              "2  35.847409  72.902198     0\n",
              "3  60.182599  86.308552     1\n",
              "4  79.032736  75.344376     1"
            ],
            "text/html": [
              "\n",
              "  <div id=\"df-ca5aeaf8-98d0-42ef-bcdb-5e19e2816984\">\n",
              "    <div class=\"colab-df-container\">\n",
              "      <div>\n",
              "<style scoped>\n",
              "    .dataframe tbody tr th:only-of-type {\n",
              "        vertical-align: middle;\n",
              "    }\n",
              "\n",
              "    .dataframe tbody tr th {\n",
              "        vertical-align: top;\n",
              "    }\n",
              "\n",
              "    .dataframe thead th {\n",
              "        text-align: right;\n",
              "    }\n",
              "</style>\n",
              "<table border=\"1\" class=\"dataframe\">\n",
              "  <thead>\n",
              "    <tr style=\"text-align: right;\">\n",
              "      <th></th>\n",
              "      <th>exam 1</th>\n",
              "      <th>exam 2</th>\n",
              "      <th>pass</th>\n",
              "    </tr>\n",
              "  </thead>\n",
              "  <tbody>\n",
              "    <tr>\n",
              "      <th>0</th>\n",
              "      <td>34.623660</td>\n",
              "      <td>78.024693</td>\n",
              "      <td>0</td>\n",
              "    </tr>\n",
              "    <tr>\n",
              "      <th>1</th>\n",
              "      <td>30.286711</td>\n",
              "      <td>43.894998</td>\n",
              "      <td>0</td>\n",
              "    </tr>\n",
              "    <tr>\n",
              "      <th>2</th>\n",
              "      <td>35.847409</td>\n",
              "      <td>72.902198</td>\n",
              "      <td>0</td>\n",
              "    </tr>\n",
              "    <tr>\n",
              "      <th>3</th>\n",
              "      <td>60.182599</td>\n",
              "      <td>86.308552</td>\n",
              "      <td>1</td>\n",
              "    </tr>\n",
              "    <tr>\n",
              "      <th>4</th>\n",
              "      <td>79.032736</td>\n",
              "      <td>75.344376</td>\n",
              "      <td>1</td>\n",
              "    </tr>\n",
              "  </tbody>\n",
              "</table>\n",
              "</div>\n",
              "      <button class=\"colab-df-convert\" onclick=\"convertToInteractive('df-ca5aeaf8-98d0-42ef-bcdb-5e19e2816984')\"\n",
              "              title=\"Convert this dataframe to an interactive table.\"\n",
              "              style=\"display:none;\">\n",
              "        \n",
              "  <svg xmlns=\"http://www.w3.org/2000/svg\" height=\"24px\"viewBox=\"0 0 24 24\"\n",
              "       width=\"24px\">\n",
              "    <path d=\"M0 0h24v24H0V0z\" fill=\"none\"/>\n",
              "    <path d=\"M18.56 5.44l.94 2.06.94-2.06 2.06-.94-2.06-.94-.94-2.06-.94 2.06-2.06.94zm-11 1L8.5 8.5l.94-2.06 2.06-.94-2.06-.94L8.5 2.5l-.94 2.06-2.06.94zm10 10l.94 2.06.94-2.06 2.06-.94-2.06-.94-.94-2.06-.94 2.06-2.06.94z\"/><path d=\"M17.41 7.96l-1.37-1.37c-.4-.4-.92-.59-1.43-.59-.52 0-1.04.2-1.43.59L10.3 9.45l-7.72 7.72c-.78.78-.78 2.05 0 2.83L4 21.41c.39.39.9.59 1.41.59.51 0 1.02-.2 1.41-.59l7.78-7.78 2.81-2.81c.8-.78.8-2.07 0-2.86zM5.41 20L4 18.59l7.72-7.72 1.47 1.35L5.41 20z\"/>\n",
              "  </svg>\n",
              "      </button>\n",
              "      \n",
              "  <style>\n",
              "    .colab-df-container {\n",
              "      display:flex;\n",
              "      flex-wrap:wrap;\n",
              "      gap: 12px;\n",
              "    }\n",
              "\n",
              "    .colab-df-convert {\n",
              "      background-color: #E8F0FE;\n",
              "      border: none;\n",
              "      border-radius: 50%;\n",
              "      cursor: pointer;\n",
              "      display: none;\n",
              "      fill: #1967D2;\n",
              "      height: 32px;\n",
              "      padding: 0 0 0 0;\n",
              "      width: 32px;\n",
              "    }\n",
              "\n",
              "    .colab-df-convert:hover {\n",
              "      background-color: #E2EBFA;\n",
              "      box-shadow: 0px 1px 2px rgba(60, 64, 67, 0.3), 0px 1px 3px 1px rgba(60, 64, 67, 0.15);\n",
              "      fill: #174EA6;\n",
              "    }\n",
              "\n",
              "    [theme=dark] .colab-df-convert {\n",
              "      background-color: #3B4455;\n",
              "      fill: #D2E3FC;\n",
              "    }\n",
              "\n",
              "    [theme=dark] .colab-df-convert:hover {\n",
              "      background-color: #434B5C;\n",
              "      box-shadow: 0px 1px 3px 1px rgba(0, 0, 0, 0.15);\n",
              "      filter: drop-shadow(0px 1px 2px rgba(0, 0, 0, 0.3));\n",
              "      fill: #FFFFFF;\n",
              "    }\n",
              "  </style>\n",
              "\n",
              "      <script>\n",
              "        const buttonEl =\n",
              "          document.querySelector('#df-ca5aeaf8-98d0-42ef-bcdb-5e19e2816984 button.colab-df-convert');\n",
              "        buttonEl.style.display =\n",
              "          google.colab.kernel.accessAllowed ? 'block' : 'none';\n",
              "\n",
              "        async function convertToInteractive(key) {\n",
              "          const element = document.querySelector('#df-ca5aeaf8-98d0-42ef-bcdb-5e19e2816984');\n",
              "          const dataTable =\n",
              "            await google.colab.kernel.invokeFunction('convertToInteractive',\n",
              "                                                     [key], {});\n",
              "          if (!dataTable) return;\n",
              "\n",
              "          const docLinkHtml = 'Like what you see? Visit the ' +\n",
              "            '<a target=\"_blank\" href=https://colab.research.google.com/notebooks/data_table.ipynb>data table notebook</a>'\n",
              "            + ' to learn more about interactive tables.';\n",
              "          element.innerHTML = '';\n",
              "          dataTable['output_type'] = 'display_data';\n",
              "          await google.colab.output.renderOutput(dataTable, element);\n",
              "          const docLink = document.createElement('div');\n",
              "          docLink.innerHTML = docLinkHtml;\n",
              "          element.appendChild(docLink);\n",
              "        }\n",
              "      </script>\n",
              "    </div>\n",
              "  </div>\n",
              "  "
            ]
          },
          "metadata": {},
          "execution_count": 1
        }
      ],
      "source": [
        "import pandas as pd\n",
        "import numpy as np\n",
        "import matplotlib.pyplot as plt\n",
        "import math\n",
        "\n",
        "df = pd.read_csv('/exam_Score.txt')\n",
        "\n",
        "x_train = np.array(df[['exam 1','exam 2']])\n",
        "y_train = np.array(df['pass'])\n",
        "df.head()"
      ]
    },
    {
      "cell_type": "markdown",
      "source": [
        "`x_train` contains exam scores on two exams for a applicant's\n",
        "  - `y_train` is the admission decision \n",
        "      - `y_train = 1` if the applicant was admitted \n",
        "      - `y_train = 0` if the applicant was not admitted \n",
        "  - Both `X_train` and `y_train` are numpy arrays."
      ],
      "metadata": {
        "id": "tM1Px7dYWvAO"
      }
    },
    {
      "cell_type": "code",
      "source": [
        "print('First 5 row of x_train:\\n',x_train[:5])\n",
        "print();\n",
        "print('First 5 row of y_train:\\n',y_train[:5])"
      ],
      "metadata": {
        "colab": {
          "base_uri": "https://localhost:8080/",
          "height": 0
        },
        "id": "vQ2lbC1QWTVu",
        "outputId": "02e97a98-6fc5-4dae-cac0-27318392b2bb"
      },
      "execution_count": 2,
      "outputs": [
        {
          "output_type": "stream",
          "name": "stdout",
          "text": [
            "First 5 row of x_train:\n",
            " [[34.62365962 78.02469282]\n",
            " [30.28671077 43.89499752]\n",
            " [35.84740877 72.90219803]\n",
            " [60.18259939 86.3085521 ]\n",
            " [79.03273605 75.34437644]]\n",
            "\n",
            "First 5 row of y_train:\n",
            " [0 0 0 1 1]\n"
          ]
        }
      ]
    },
    {
      "cell_type": "markdown",
      "source": [
        "## Visualize dataset\n",
        "- `admitted` contain all exam score of admitted applicant's and it's shown as **green** in the graph\n",
        "- `rejected` contain all exam score of rejected applicant's and it's shown as **red** in the graph"
      ],
      "metadata": {
        "id": "Gnu5jUN6YDcs"
      }
    },
    {
      "cell_type": "code",
      "source": [
        "admitted = df[df['pass'] == 1]\n",
        "rejected = df[df['pass'] == 0]\n",
        "\n",
        "plt.scatter(admitted['exam 1'],admitted['exam 2'],c = 'g', label = 'admitted' , marker = '+')\n",
        "plt.scatter(rejected['exam 1'],rejected['exam 2'],c = 'r', label = 'rejected' , marker = 'x')\n",
        "plt.xlabel('Exam 1 score')\n",
        "plt.ylabel('Exam 2 score')\n",
        "plt.title('Applicants Data')\n",
        "plt.legend()\n",
        "plt.show()"
      ],
      "metadata": {
        "colab": {
          "base_uri": "https://localhost:8080/",
          "height": 295
        },
        "id": "W9PqlWNh7d3w",
        "outputId": "10e46330-a1b4-4c4d-d659-19e51427c425"
      },
      "execution_count": 3,
      "outputs": [
        {
          "output_type": "display_data",
          "data": {
            "text/plain": [
              "<Figure size 432x288 with 1 Axes>"
            ],
            "image/png": "[encoded data removed]"
          },
          "metadata": {
            "needs_background": "light"
          }
        }
      ]
    },
    {
      "cell_type": "code",
      "source": [
        "print(f'Shape x train : {x_train.shape}')\n",
        "print(f'Shape y train : {y_train.shape}')\n",
        "print(f'We have {len(y_train)} training data from dataset')"
      ],
      "metadata": {
        "colab": {
          "base_uri": "https://localhost:8080/",
          "height": 0
        },
        "id": "tcPChGrP3GLj",
        "outputId": "15b7a6ac-cc17-4761-8ec0-383040e6e32c"
      },
      "execution_count": 4,
      "outputs": [
        {
          "output_type": "stream",
          "name": "stdout",
          "text": [
            "Shape x train : (100, 2)\n",
            "Shape y train : (100,)\n",
            "We have 100 training data from dataset\n"
          ]
        }
      ]
    },
    {
      "cell_type": "code",
      "source": [
        "# Set data length\n",
        "m, n = x_train.shape"
      ],
      "metadata": {
        "id": "iUZAYrE92t1T"
      },
      "execution_count": 5,
      "outputs": []
    },
    {
      "cell_type": "markdown",
      "source": [
        "## Build the model\n",
        "\n",
        "### Logistic Regression\n",
        "For logistic regression, the model is represented as\n",
        "$$ f_{\\mathbf{w},b}(x) = g(\\mathbf{w}\\cdot \\mathbf{x} + b) \\tag{1}$$\n",
        "\n",
        "where function $g$ is the sigmoid function. The sigmoid function is defined as:\n",
        "$$g(z) = \\frac{1}{1+e^{-z}} \\tag{2}$$\n",
        "\n",
        "The `sigmoid` function to calculate sigmoid equation(2)"
      ],
      "metadata": {
        "id": "i4A8kO58a1TZ"
      }
    },
    {
      "cell_type": "code",
      "source": [
        "def sigmoid(z):\n",
        "    g = 1 / (1 + (math.e)**(-1*z))\n",
        "    return g "
      ],
      "metadata": {
        "id": "s8tyZFpm_Nxe"
      },
      "execution_count": 6,
      "outputs": []
    },
    {
      "cell_type": "markdown",
      "source": [
        "### Cost function for logistic regression\n",
        "\n",
        "For logistic regression, the cost function is represented as\n",
        "\n",
        "$$ J(\\mathbf{w},b) = \\frac{1}{m}\\sum_{i=0}^{m-1} \\left[ loss(f_{\\mathbf{w},b}(\\mathbf{x}^{(i)}), y^{(i)}) \\right] \\tag{3}$$\n",
        "\n",
        "where:\n",
        "* m is the number of training examples in the dataset\n",
        "\n",
        "* $loss(f_{\\mathbf{w},b}(\\mathbf{x}^{(i)}), y^{(i)})$ is the cost for a single data point, where:\n",
        "\n",
        "$$loss(f_{\\mathbf{w},b}(\\mathbf{x}^{(i)}), y^{(i)}) = (-y^{(i)} \\log\\left(f_{\\mathbf{w},b}\\left( \\mathbf{x}^{(i)} \\right) \\right) - \\left( 1 - y^{(i)}\\right) \\log \\left( 1 - f_{\\mathbf{w},b}\\left( \\mathbf{x}^{(i)} \\right) \\right) \\tag{4}$$\n",
        "        \n",
        "*  $f_{\\mathbf{w},b}(\\mathbf{x}^{(i)})$ is the model's prediction, while $y^{(i)}$, which is the actual label\n",
        "\n",
        "*  $f_{\\mathbf{w},b}(\\mathbf{x}^{(i)}) = g(\\mathbf{w} \\cdot \\mathbf{x^{(i)}} + b)$ where function $g$ is the sigmoid function.\n",
        "\n",
        "* $z_{\\mathbf{w},b}(\\mathbf{x}^{(i)}) = \\mathbf{w} \\cdot \\mathbf{x^{(i)}} + b$\n",
        "\n",
        "<br /> \n",
        "\n",
        "`count_cost` function implementing equation (3) and (4) to calculate total cost\n"
      ],
      "metadata": {
        "id": "uUc8kXf2d6zP"
      }
    },
    {
      "cell_type": "code",
      "source": [
        "def count_cost(x, y, w, b) :\n",
        "  total_cost = 0\n",
        "  for i in range(m):\n",
        "    z_wb = np.dot(w,x[i]) + b\n",
        "    f_wb = sigmoid(z_wb)\n",
        "\n",
        "    loss = ((-1 * y[i]) * math.log(f_wb) - (1-y[i]) * math.log(1 - f_wb))\n",
        "    total_cost = total_cost + loss\n",
        "  \n",
        "  total_cost = total_cost/m\n",
        "\n",
        "  return total_cost"
      ],
      "metadata": {
        "id": "pcUdH5xhBM2Q"
      },
      "execution_count": 7,
      "outputs": []
    },
    {
      "cell_type": "markdown",
      "source": [
        "### Gradient for logistic regression\n",
        "\n",
        "In this section, there will be implementation of the gradient for logistic regression.\n",
        "\n",
        "The gradient descent algorithm is:\n",
        "\n",
        "$$\\begin{align*}& \\text{repeat until convergence:} \\; \\lbrace \\newline \\; & b := b -  \\alpha \\frac{\\partial J(\\mathbf{w},b)}{\\partial b} \\newline       \\; & w_j := w_j -  \\alpha \\frac{\\partial J(\\mathbf{w},b)}{\\partial w_j} \\tag{5}  \\; & \\text{for j := 0..n-1}\\newline & \\rbrace\\end{align*}$$\n",
        "\n",
        "where:\n",
        "\n",
        "$$\\frac{\\partial J(\\mathbf{w},b)}{\\partial b}  = \\frac{1}{m} \\sum\\limits_{i = 0}^{m-1} (f_{\\mathbf{w},b}(\\mathbf{x}^{(i)}) - \\mathbf{y}^{(i)}) \\tag{6}$$\n",
        "\n",
        "$$\\frac{\\partial J(\\mathbf{w},b)}{\\partial w_j}  = \\frac{1}{m} \\sum\\limits_{i = 0}^{m-1} (f_{\\mathbf{w},b}(\\mathbf{x}^{(i)}) - \\mathbf{y}^{(i)})x_{j}^{(i)} \\tag{7}$$\n",
        "\n",
        "\n",
        "Note that parameters $b$ and $w_j$ are all updated simultaneously\n",
        "\n",
        "<br></br>\n",
        "\n",
        "`gradient` function implementing equation (6) and (7) to calculate gradient descent algorithm"
      ],
      "metadata": {
        "id": "ranUxOrFf_WA"
      }
    },
    {
      "cell_type": "code",
      "source": [
        "def gradient(x,y,w,b,*argv):\n",
        "  dj_db = 0. \n",
        "  dj_dw = np.zeros(n)\n",
        "\n",
        "  for i in range(m):\n",
        "    z_wb = np.dot(w,x[i]) + b\n",
        "    f_wb = sigmoid(z_wb)\n",
        "    err_i = f_wb - y[i]\n",
        "\n",
        "    # dj db\n",
        "    dj_db = dj_db + err_i\n",
        "\n",
        "    # dj dw\n",
        "    for j in range(n):\n",
        "      dj_dw[j] = dj_dw[j] + err_i * x[i][j]\n",
        "\n",
        "  dj_dw = dj_dw / m\n",
        "  dj_db = dj_db / m\n",
        "\n",
        "  return dj_db, dj_dw"
      ],
      "metadata": {
        "id": "8pMnoRIZv8KB"
      },
      "execution_count": 8,
      "outputs": []
    },
    {
      "cell_type": "markdown",
      "source": [
        "## Intiate the Model\n",
        "\n",
        "Here is a brief explanation the logic of `compute_model` function that ultilize all fuctions:\n",
        "- $w$ , and $b$ value will be intiated at random value\n",
        "- $alpha$ is the learning rate of the algorithm\n",
        "- equation (5) implemented in function below to update $w$ , and $b$ value to produce the lowest cost\n",
        "- `list_` will stores all counted cost of every  $w$ , and $b$ value for graph visualization"
      ],
      "metadata": {
        "id": "sH0n6tQ9IJws"
      }
    },
    {
      "cell_type": "code",
      "source": [
        "def compute_model(x,y,w,b,list_,iters,alpha):\n",
        "  for i in range(iters):\n",
        "    cost = count_cost(x_train, y_train, w, b)\n",
        "    list_.append(cost)\n",
        "\n",
        "    b_update,w_update = gradient(x,y,w,b)\n",
        "    b = b - (alpha*b_update)\n",
        "    for j in range(n):\n",
        "      w[j] = w[j] - (alpha*w_update[j])\n",
        "    \n",
        "  return w,b"
      ],
      "metadata": {
        "id": "aKmfu2LsmS-L"
      },
      "execution_count": 9,
      "outputs": []
    },
    {
      "cell_type": "markdown",
      "source": [
        "### Run the function\n",
        "- counted cost will be stored in `cost_list`\n",
        "- alpha set to 0.001\n",
        "- program will iters for number of `iters`"
      ],
      "metadata": {
        "id": "xLsAQrYvJ7N9"
      }
    },
    {
      "cell_type": "code",
      "source": [
        "cost_list = []\n",
        "w = 0.01 * (np.random.rand(2) - 0.5)\n",
        "b = -8\n",
        "alpha = 0.001\n",
        "iters = 10000\n",
        "\n",
        "w,b = compute_model(x_train,y_train,w,b,cost_list,iters,alpha)\n",
        "print(f'Final w value is: {w}\\nFinal b value is: {b}\\n')\n",
        "print(f'Total cost for correspondents w and b is: {count_cost(x_train,y_train,w,b)}')"
      ],
      "metadata": {
        "colab": {
          "base_uri": "https://localhost:8080/",
          "height": 0
        },
        "id": "EqjZH_kBnB3Q",
        "outputId": "998b10f0-11c6-4db6-b7a2-300964dc7905"
      },
      "execution_count": 17,
      "outputs": [
        {
          "output_type": "stream",
          "name": "stdout",
          "text": [
            "Final w value is: [0.07125349 0.06482881]\n",
            "Final b value is: -8.188615085400823\n",
            "\n",
            "Total cost for correspondents w and b is: 0.30186821266597186\n"
          ]
        }
      ]
    },
    {
      "cell_type": "code",
      "source": [
        "plt.plot(cost_list)"
      ],
      "metadata": {
        "colab": {
          "base_uri": "https://localhost:8080/",
          "height": 287
        },
        "id": "gbqBGxupW7io",
        "outputId": "6f0b0374-a70a-4ceb-cfaf-37b5a5619c47"
      },
      "execution_count": 18,
      "outputs": [
        {
          "output_type": "execute_result",
          "data": {
            "text/plain": [
              "[<matplotlib.lines.Line2D at 0x7f057e38e310>]"
            ]
          },
          "metadata": {},
          "execution_count": 18
        },
        {
          "output_type": "display_data",
          "data": {
            "text/plain": [
              "<Figure size 432x288 with 1 Axes>"
            ],
            "image/png": "[encoded data removed]"
          },
          "metadata": {
            "needs_background": "light"
          }
        }
      ]
    },
    {
      "cell_type": "markdown",
      "source": [
        "## Visualize the model\n",
        "After w and b value is found, let's visualize the decision boundary to actual dataset"
      ],
      "metadata": {
        "id": "BM_GlvXkLVnR"
      }
    },
    {
      "cell_type": "code",
      "source": [
        "# Define a grid of points that span the range of input data\n",
        "x1_min, x1_max = x_train[:, 0].min() - 1, x_train[:, 0].max() + 1\n",
        "x2_min, x2_max = x_train[:, 1].min() - 1, x_train[:, 1].max() + 1\n",
        "xx1, xx2 = np.meshgrid(np.arange(x1_min, x1_max, 0.1), np.arange(x2_min, x2_max, 0.1))\n",
        "grid = np.c_[xx1.ravel(), xx2.ravel()]\n",
        "\n",
        "# Plot the linear decision boundary\n",
        "z = np.dot(grid, w) + b\n",
        "z = z.reshape(xx1.shape)"
      ],
      "metadata": {
        "id": "Vg9YG60Cotw-"
      },
      "execution_count": 22,
      "outputs": []
    },
    {
      "cell_type": "code",
      "source": [
        "admitted = df[df['pass'] == 1]\n",
        "rejected = df[df['pass'] == 0]\n",
        "\n",
        "plt.scatter(admitted['exam 1'],admitted['exam 2'],c = 'g', label = 'admitted' , marker = '+')\n",
        "plt.scatter(rejected['exam 1'],rejected['exam 2'],c = 'r', label = 'rejected' , marker = 'x')\n",
        "plt.contour(xx1, xx2, z, levels=[0], colors='b')\n",
        "plt.xlabel('Exam 1 score')\n",
        "plt.ylabel('Exam 2 score')\n",
        "plt.title('Decision Boundary')\n",
        "plt.legend()\n",
        "plt.show()\n",
        "print()"
      ],
      "metadata": {
        "colab": {
          "base_uri": "https://localhost:8080/",
          "height": 331
        },
        "id": "axAA2p6rSJAV",
        "outputId": "d2a27376-dd67-4265-ee9d-bb1c115317b8"
      },
      "execution_count": 24,
      "outputs": [
        {
          "output_type": "display_data",
          "data": {
            "text/plain": [
              "<Figure size 432x288 with 1 Axes>"
            ],
            "image/png": "[encoded data removed]"
          },
          "metadata": {
            "needs_background": "light"
          }
        },
        {
          "output_type": "stream",
          "name": "stdout",
          "text": [
            "\n",
            "\n"
          ]
        }
      ]
    },
    {
      "cell_type": "markdown",
      "source": [
        "\n",
        "\n",
        "\n",
        "> We can see that the decision boundary fit pretty wall to the actual data"
      ],
      "metadata": {
        "id": "EApLNAWoLqjx"
      }
    },
    {
      "cell_type": "markdown",
      "source": [
        "## Check the Accuracy\n",
        "\n",
        "To check the accuracy of learned parameter vector $w$ and $b$, we need to get a final prediction ($y^{(i)}=0$ or $y^{(i)}=1$) from the logistic regression model, with equation below:\n",
        "\n",
        "  if $f(x^{(i)}) >= 0.5$, predict $y^{(i)}=1$ &rarr; **admitted** $\\tag{8}$\n",
        "  \n",
        "  if $f(x^{(i)}) < 0.5$, predict $y^{(i)}=0$ &rarr; **rejected** $\\tag{9}$\n",
        "<br></br>\n",
        "The program will compare the predictions (`p`) with the actual $y$ (`y_train`) from the data set and calculate the percentage of correct predictions"
      ],
      "metadata": {
        "id": "wek1ZV1XQ2wf"
      }
    },
    {
      "cell_type": "code",
      "source": [
        "true,false=0,0\n",
        "for i in range(m):   \n",
        "        z_wb = np.dot(w,x_train[i]) + b\n",
        "        f_wb = sigmoid(z_wb)\n",
        "    \n",
        "        if f_wb >= 0.5:\n",
        "          p = 1\n",
        "        elif f_wb < 0.5:\n",
        "          p = 0\n",
        "        \n",
        "        if y_train[i] == p:\n",
        "          true +=1\n",
        "        else:\n",
        "          false +=1\n",
        "\n",
        "print(f'Number of tests = {true+false}\\nCorrect Predictions = {true}\\nWrong Predictions = {false}')\n",
        "print(f'\\nAccuracy = {true * 100 / (true+false)}%')"
      ],
      "metadata": {
        "colab": {
          "base_uri": "https://localhost:8080/",
          "height": 0
        },
        "id": "G7eFWQcK8Ub5",
        "outputId": "530eb78b-8d6d-46c5-9b4d-1c717a2db092"
      },
      "execution_count": 21,
      "outputs": [
        {
          "output_type": "stream",
          "name": "stdout",
          "text": [
            "Number of tests = 100\n",
            "Correct Predictions = 92\n",
            "Wrong Predictions = 8\n",
            "\n",
            "Accuracy = 92.0%\n"
          ]
        }
      ]
    },
    {
      "cell_type": "markdown",
      "source": [
        "## Test the Model\n",
        "\n",
        "Now we can use the model with new data input to predict whether applicant is admitted or rejected based on equation (8) and (9)\n",
        "\n",
        "`predict` function will be use to make the prediction"
      ],
      "metadata": {
        "id": "L0XxzJ8WTVDL"
      }
    },
    {
      "cell_type": "code",
      "source": [
        "def predict(w,b,x1,x2):\n",
        "  x = np.array([x1,x2])\n",
        "  z_wb = np.dot(w,x) + b\n",
        "  f_wb = sigmoid(z_wb)\n",
        "  return f_wb"
      ],
      "metadata": {
        "id": "mp2fxtrgtjIe"
      },
      "execution_count": 14,
      "outputs": []
    },
    {
      "cell_type": "code",
      "source": [
        "exam_1_score = 60 #@param {type:\"slider\", min:0, max:100, step:1}\n",
        "exam_2_score = 65 #@param {type:\"slider\", min:0, max:100, step:1}\n",
        "fx = predict(w,b,exam_1_score,exam_2_score)\n",
        "\n",
        "if fx >= 0.5:\n",
        "  print(f'With score:\\nExam 1 = {exam_1_score}\\nExam 2 = {exam_2_score}')\n",
        "  print()\n",
        "  print('Applicant is admitted!')\n",
        "else:\n",
        "  print(f'With score:\\nExam 1 = {exam_1_score}\\nExam 2 = {exam_2_score}')\n",
        "  print()\n",
        "  print('Applicant is rejected!')\n",
        "\n",
        "print(f'\\nf(x) value is = {round(fx,3)}')"
      ],
      "metadata": {
        "colab": {
          "base_uri": "https://localhost:8080/",
          "height": 0
        },
        "id": "e033Bwt07-y2",
        "outputId": "aa35473e-f3c1-4d24-e31e-85a3a0435f4c"
      },
      "execution_count": 25,
      "outputs": [
        {
          "output_type": "stream",
          "name": "stdout",
          "text": [
            "With score:\n",
            "Exam 1 = 60\n",
            "Exam 2 = 65\n",
            "\n",
            "Applicant is admitted!\n",
            "\n",
            "f(x) value is = 0.575\n"
          ]
        }
      ]
    }
  ]
}